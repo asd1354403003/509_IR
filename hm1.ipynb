{
 "cells": [
  {
   "cell_type": "code",
   "execution_count": 1,
   "id": "06f74511",
   "metadata": {},
   "outputs": [],
   "source": [
    "from sklearn.feature_extraction.text import CountVectorizer\n",
    "import pandas as pd\n",
    "import numpy as np\n",
    "from scipy.linalg import norm\n",
    "from sklearn.feature_extraction.text import ENGLISH_STOP_WORDS\n",
    "from nltk.tokenize import word_tokenize\n",
    "import matplotlib.pyplot as plt"
   ]
  },
  {
   "cell_type": "markdown",
   "id": "feb50284",
   "metadata": {},
   "source": [
    "# 1"
   ]
  },
  {
   "cell_type": "code",
   "execution_count": 2,
   "id": "43a4f0a6",
   "metadata": {},
   "outputs": [],
   "source": [
    "d1 = 'school of information'\n",
    "d2 = 'school of informatics and computing'\n",
    "d3 = ' school of information and library science'\n",
    "q = 'computer information'"
   ]
  },
  {
   "cell_type": "code",
   "execution_count": 3,
   "id": "b84a95b9",
   "metadata": {},
   "outputs": [],
   "source": [
    "all_data = [d1,d2,d3,q]"
   ]
  },
  {
   "cell_type": "markdown",
   "id": "0e148d0e",
   "metadata": {},
   "source": [
    "## 1.A"
   ]
  },
  {
   "cell_type": "code",
   "execution_count": 4,
   "id": "2e19289e",
   "metadata": {},
   "outputs": [],
   "source": [
    "cv = CountVectorizer()\n",
    "cv_fit = cv.fit_transform(all_data)"
   ]
  },
  {
   "cell_type": "code",
   "execution_count": 5,
   "id": "eb32f727",
   "metadata": {},
   "outputs": [
    {
     "name": "stderr",
     "output_type": "stream",
     "text": [
      "D:\\Anaconda\\envs\\All\\lib\\site-packages\\sklearn\\utils\\deprecation.py:87: FutureWarning: Function get_feature_names is deprecated; get_feature_names is deprecated in 1.0 and will be removed in 1.2. Please use get_feature_names_out instead.\n",
      "  warnings.warn(msg, category=FutureWarning)\n"
     ]
    },
    {
     "data": {
      "text/html": [
       "<div>\n",
       "<style scoped>\n",
       "    .dataframe tbody tr th:only-of-type {\n",
       "        vertical-align: middle;\n",
       "    }\n",
       "\n",
       "    .dataframe tbody tr th {\n",
       "        vertical-align: top;\n",
       "    }\n",
       "\n",
       "    .dataframe thead th {\n",
       "        text-align: right;\n",
       "    }\n",
       "</style>\n",
       "<table border=\"1\" class=\"dataframe\">\n",
       "  <thead>\n",
       "    <tr style=\"text-align: right;\">\n",
       "      <th></th>\n",
       "      <th>and</th>\n",
       "      <th>computer</th>\n",
       "      <th>computing</th>\n",
       "      <th>informatics</th>\n",
       "      <th>information</th>\n",
       "      <th>library</th>\n",
       "      <th>of</th>\n",
       "      <th>school</th>\n",
       "      <th>science</th>\n",
       "    </tr>\n",
       "  </thead>\n",
       "  <tbody>\n",
       "    <tr>\n",
       "      <th>0</th>\n",
       "      <td>0</td>\n",
       "      <td>0</td>\n",
       "      <td>0</td>\n",
       "      <td>0</td>\n",
       "      <td>1</td>\n",
       "      <td>0</td>\n",
       "      <td>1</td>\n",
       "      <td>1</td>\n",
       "      <td>0</td>\n",
       "    </tr>\n",
       "    <tr>\n",
       "      <th>1</th>\n",
       "      <td>1</td>\n",
       "      <td>0</td>\n",
       "      <td>1</td>\n",
       "      <td>1</td>\n",
       "      <td>0</td>\n",
       "      <td>0</td>\n",
       "      <td>1</td>\n",
       "      <td>1</td>\n",
       "      <td>0</td>\n",
       "    </tr>\n",
       "    <tr>\n",
       "      <th>2</th>\n",
       "      <td>1</td>\n",
       "      <td>0</td>\n",
       "      <td>0</td>\n",
       "      <td>0</td>\n",
       "      <td>1</td>\n",
       "      <td>1</td>\n",
       "      <td>1</td>\n",
       "      <td>1</td>\n",
       "      <td>1</td>\n",
       "    </tr>\n",
       "    <tr>\n",
       "      <th>3</th>\n",
       "      <td>0</td>\n",
       "      <td>1</td>\n",
       "      <td>0</td>\n",
       "      <td>0</td>\n",
       "      <td>1</td>\n",
       "      <td>0</td>\n",
       "      <td>0</td>\n",
       "      <td>0</td>\n",
       "      <td>0</td>\n",
       "    </tr>\n",
       "  </tbody>\n",
       "</table>\n",
       "</div>"
      ],
      "text/plain": [
       "   and  computer  computing  informatics  information  library  of  school  \\\n",
       "0    0         0          0            0            1        0   1       1   \n",
       "1    1         0          1            1            0        0   1       1   \n",
       "2    1         0          0            0            1        1   1       1   \n",
       "3    0         1          0            0            1        0   0       0   \n",
       "\n",
       "   science  \n",
       "0        0  \n",
       "1        0  \n",
       "2        1  \n",
       "3        0  "
      ]
     },
     "execution_count": 5,
     "metadata": {},
     "output_type": "execute_result"
    }
   ],
   "source": [
    "pd.DataFrame(cv_fit.toarray(), columns = cv.get_feature_names())"
   ]
  },
  {
   "cell_type": "code",
   "execution_count": 6,
   "id": "846417fc",
   "metadata": {},
   "outputs": [
    {
     "data": {
      "text/plain": [
       "array([[0, 0, 0, 0, 1, 0, 1, 1, 0],\n",
       "       [1, 0, 1, 1, 0, 0, 1, 1, 0],\n",
       "       [1, 0, 0, 0, 1, 1, 1, 1, 1],\n",
       "       [0, 1, 0, 0, 1, 0, 0, 0, 0]], dtype=int64)"
      ]
     },
     "execution_count": 6,
     "metadata": {},
     "output_type": "execute_result"
    }
   ],
   "source": [
    "cv_fit.toarray()"
   ]
  },
  {
   "cell_type": "raw",
   "id": "179976dd",
   "metadata": {},
   "source": [
    "The i-th dimension in vector =》 i-th word in vocabulary\n",
    "The value of i-th dimension =》 number of appearance\n",
    "The forth vector is query"
   ]
  },
  {
   "cell_type": "markdown",
   "id": "df32ebc6",
   "metadata": {},
   "source": [
    "## 1.B"
   ]
  },
  {
   "cell_type": "code",
   "execution_count": 7,
   "id": "6c05c6a7",
   "metadata": {},
   "outputs": [],
   "source": [
    "def cos(a,b):\n",
    "    cos_sim = np.dot(a, b)/(norm(a)*norm(b))\n",
    "    return cos_sim"
   ]
  },
  {
   "cell_type": "code",
   "execution_count": 8,
   "id": "2ba17e43",
   "metadata": {},
   "outputs": [],
   "source": [
    "def cos_result(all_data, num):\n",
    "    dic = {}\n",
    "    cv = CountVectorizer()\n",
    "    cv_fit = cv.fit_transform(all_data)\n",
    "    print(pd.DataFrame(cv_fit.toarray(), columns = cv.get_feature_names()))\n",
    "    for i in range(num):\n",
    "        c = cos(cv_fit.toarray()[i], cv_fit.toarray()[-1])\n",
    "        \n",
    "        name = 'Cosine similarity of q and d '+ str(i+1) + ' is '\n",
    "        dic[name] = c\n",
    "    return sorted(dic.items(), key=lambda x: x[1], reverse=True)"
   ]
  },
  {
   "cell_type": "code",
   "execution_count": 9,
   "id": "7437c947",
   "metadata": {},
   "outputs": [
    {
     "name": "stdout",
     "output_type": "stream",
     "text": [
      "   and  computer  computing  informatics  information  library  of  school  \\\n",
      "0    0         0          0            0            1        0   1       1   \n",
      "1    1         0          1            1            0        0   1       1   \n",
      "2    1         0          0            0            1        1   1       1   \n",
      "3    0         1          0            0            1        0   0       0   \n",
      "\n",
      "   science  \n",
      "0        0  \n",
      "1        0  \n",
      "2        1  \n",
      "3        0  \n"
     ]
    },
    {
     "name": "stderr",
     "output_type": "stream",
     "text": [
      "D:\\Anaconda\\envs\\All\\lib\\site-packages\\sklearn\\utils\\deprecation.py:87: FutureWarning: Function get_feature_names is deprecated; get_feature_names is deprecated in 1.0 and will be removed in 1.2. Please use get_feature_names_out instead.\n",
      "  warnings.warn(msg, category=FutureWarning)\n"
     ]
    },
    {
     "data": {
      "text/plain": [
       "[('Cosine similarity of q and d 1 is ', 0.40824829046386296),\n",
       " ('Cosine similarity of q and d 3 is ', 0.2886751345948129),\n",
       " ('Cosine similarity of q and d 2 is ', 0.0)]"
      ]
     },
     "execution_count": 9,
     "metadata": {},
     "output_type": "execute_result"
    }
   ],
   "source": [
    "cos_result(all_data,3)"
   ]
  },
  {
   "cell_type": "code",
   "execution_count": null,
   "id": "813a5278",
   "metadata": {},
   "outputs": [],
   "source": []
  },
  {
   "cell_type": "code",
   "execution_count": 10,
   "id": "c1be1f7e",
   "metadata": {},
   "outputs": [],
   "source": [
    "# def cos_result_one_one(data):\n",
    "\n",
    "#     for i in range(3):\n",
    "#         cv = CountVectorizer()\n",
    "#         cv_fit = cv.fit_transform([data[i], q])\n",
    "#         print(pd.DataFrame(cv_fit.toarray(), columns = cv.get_feature_names()))\n",
    "#         c = cos(cv_fit.toarray()[0], cv_fit.toarray()[1])\n",
    "#         name = 'Cosine similarity of q and d '+ str(i+1) + ' is '\n",
    "#         dic[name] = c\n",
    "#     return sorted(dic.items(), key=lambda x: x[1], reverse=True)"
   ]
  },
  {
   "cell_type": "code",
   "execution_count": 11,
   "id": "7f89a094",
   "metadata": {},
   "outputs": [],
   "source": [
    "#cos_result_one_one(all_data)"
   ]
  },
  {
   "cell_type": "markdown",
   "id": "7d6e7e50",
   "metadata": {},
   "source": [
    "## 1.C"
   ]
  },
  {
   "cell_type": "code",
   "execution_count": 12,
   "id": "8ea028ed",
   "metadata": {},
   "outputs": [],
   "source": [
    "def remove_stop_word(text):\n",
    "    words = [word for word in text.split() if word.lower() not in ENGLISH_STOP_WORDS]\n",
    "    new_text = \" \".join(words)\n",
    "    return new_text"
   ]
  },
  {
   "cell_type": "code",
   "execution_count": 13,
   "id": "0d237ed2",
   "metadata": {},
   "outputs": [],
   "source": [
    "removed = [remove_stop_word(d1), remove_stop_word(d2), remove_stop_word(d3), remove_stop_word(q)]"
   ]
  },
  {
   "cell_type": "code",
   "execution_count": 14,
   "id": "b4645419",
   "metadata": {},
   "outputs": [
    {
     "name": "stdout",
     "output_type": "stream",
     "text": [
      "   computer  computing  informatics  information  library  school  science\n",
      "0         0          0            0            1        0       1        0\n",
      "1         0          1            1            0        0       1        0\n",
      "2         0          0            0            1        1       1        1\n",
      "3         1          0            0            1        0       0        0\n"
     ]
    },
    {
     "name": "stderr",
     "output_type": "stream",
     "text": [
      "D:\\Anaconda\\envs\\All\\lib\\site-packages\\sklearn\\utils\\deprecation.py:87: FutureWarning: Function get_feature_names is deprecated; get_feature_names is deprecated in 1.0 and will be removed in 1.2. Please use get_feature_names_out instead.\n",
      "  warnings.warn(msg, category=FutureWarning)\n"
     ]
    },
    {
     "data": {
      "text/plain": [
       "[('Cosine similarity of q and d 1 is ', 0.4999999999999999),\n",
       " ('Cosine similarity of q and d 3 is ', 0.35355339059327373),\n",
       " ('Cosine similarity of q and d 2 is ', 0.0)]"
      ]
     },
     "execution_count": 14,
     "metadata": {},
     "output_type": "execute_result"
    }
   ],
   "source": [
    "cos_result(removed,3 )"
   ]
  },
  {
   "cell_type": "code",
   "execution_count": null,
   "id": "f80e5821",
   "metadata": {},
   "outputs": [],
   "source": []
  },
  {
   "cell_type": "markdown",
   "id": "67ca5db2",
   "metadata": {},
   "source": [
    "## 1.D"
   ]
  },
  {
   "cell_type": "code",
   "execution_count": 15,
   "id": "8d93eeee",
   "metadata": {},
   "outputs": [],
   "source": [
    "from nltk.stem import PorterStemmer\n",
    "ps = PorterStemmer()\n",
    "def stem(d):\n",
    "    return  ' '.join([ps.stem(words_sent) for words_sent in word_tokenize(remove_stop_word(d))])"
   ]
  },
  {
   "cell_type": "code",
   "execution_count": 16,
   "id": "0a331a0a",
   "metadata": {},
   "outputs": [],
   "source": [
    "stemmed = [stem(d1), stem(d2), stem(d3), stem(q)]"
   ]
  },
  {
   "cell_type": "code",
   "execution_count": 17,
   "id": "7b980a74",
   "metadata": {},
   "outputs": [
    {
     "data": {
      "text/plain": [
       "['school inform',\n",
       " 'school informat comput',\n",
       " 'school inform librari scienc',\n",
       " 'comput inform']"
      ]
     },
     "execution_count": 17,
     "metadata": {},
     "output_type": "execute_result"
    }
   ],
   "source": [
    "stemmed"
   ]
  },
  {
   "cell_type": "code",
   "execution_count": 18,
   "id": "1d4b71c6",
   "metadata": {},
   "outputs": [
    {
     "name": "stdout",
     "output_type": "stream",
     "text": [
      "   comput  inform  informat  librari  school  scienc\n",
      "0       0       1         0        0       1       0\n",
      "1       1       0         1        0       1       0\n",
      "2       0       1         0        1       1       1\n",
      "3       1       1         0        0       0       0\n"
     ]
    },
    {
     "name": "stderr",
     "output_type": "stream",
     "text": [
      "D:\\Anaconda\\envs\\All\\lib\\site-packages\\sklearn\\utils\\deprecation.py:87: FutureWarning: Function get_feature_names is deprecated; get_feature_names is deprecated in 1.0 and will be removed in 1.2. Please use get_feature_names_out instead.\n",
      "  warnings.warn(msg, category=FutureWarning)\n"
     ]
    },
    {
     "data": {
      "text/plain": [
       "[('Cosine similarity of q and d 1 is ', 0.4999999999999999),\n",
       " ('Cosine similarity of q and d 2 is ', 0.40824829046386296),\n",
       " ('Cosine similarity of q and d 3 is ', 0.35355339059327373)]"
      ]
     },
     "execution_count": 18,
     "metadata": {},
     "output_type": "execute_result"
    }
   ],
   "source": [
    "cos_result(stemmed, 3)"
   ]
  },
  {
   "cell_type": "code",
   "execution_count": null,
   "id": "420c4577",
   "metadata": {},
   "outputs": [],
   "source": []
  },
  {
   "cell_type": "markdown",
   "id": "d785ffd0",
   "metadata": {},
   "source": [
    "## 1.E"
   ]
  },
  {
   "cell_type": "code",
   "execution_count": 19,
   "id": "8e031b38",
   "metadata": {},
   "outputs": [],
   "source": [
    "d4 = 'school of information and library science school of information and library science'"
   ]
  },
  {
   "cell_type": "code",
   "execution_count": 20,
   "id": "839a8c29",
   "metadata": {},
   "outputs": [],
   "source": [
    "all_data.append(d4)"
   ]
  },
  {
   "cell_type": "code",
   "execution_count": 21,
   "id": "01c5cee1",
   "metadata": {},
   "outputs": [],
   "source": [
    "all_data[-1], all_data[-2] = all_data[-2], all_data[-1]"
   ]
  },
  {
   "cell_type": "code",
   "execution_count": 22,
   "id": "572f1ea8",
   "metadata": {},
   "outputs": [
    {
     "data": {
      "text/plain": [
       "['school of information',\n",
       " 'school of informatics and computing',\n",
       " ' school of information and library science',\n",
       " 'school of information and library science school of information and library science',\n",
       " 'computer information']"
      ]
     },
     "execution_count": 22,
     "metadata": {},
     "output_type": "execute_result"
    }
   ],
   "source": [
    "all_data"
   ]
  },
  {
   "cell_type": "code",
   "execution_count": 23,
   "id": "4c6146d7",
   "metadata": {},
   "outputs": [
    {
     "name": "stdout",
     "output_type": "stream",
     "text": [
      "   and  computer  computing  informatics  information  library  of  school  \\\n",
      "0    0         0          0            0            1        0   1       1   \n",
      "1    1         0          1            1            0        0   1       1   \n",
      "2    1         0          0            0            1        1   1       1   \n",
      "3    2         0          0            0            2        2   2       2   \n",
      "4    0         1          0            0            1        0   0       0   \n",
      "\n",
      "   science  \n",
      "0        0  \n",
      "1        0  \n",
      "2        1  \n",
      "3        2  \n",
      "4        0  \n"
     ]
    },
    {
     "name": "stderr",
     "output_type": "stream",
     "text": [
      "D:\\Anaconda\\envs\\All\\lib\\site-packages\\sklearn\\utils\\deprecation.py:87: FutureWarning: Function get_feature_names is deprecated; get_feature_names is deprecated in 1.0 and will be removed in 1.2. Please use get_feature_names_out instead.\n",
      "  warnings.warn(msg, category=FutureWarning)\n"
     ]
    },
    {
     "data": {
      "text/plain": [
       "[('Cosine similarity of q and d 1 is ', 0.40824829046386296),\n",
       " ('Cosine similarity of q and d 3 is ', 0.2886751345948129),\n",
       " ('Cosine similarity of q and d 4 is ', 0.2886751345948129),\n",
       " ('Cosine similarity of q and d 2 is ', 0.0)]"
      ]
     },
     "execution_count": 23,
     "metadata": {},
     "output_type": "execute_result"
    }
   ],
   "source": [
    "cos_result(all_data, 4)"
   ]
  },
  {
   "cell_type": "raw",
   "id": "7c70bbc5",
   "metadata": {},
   "source": [
    "Same \n",
    "Because the angle is not changing itself\n",
    "Also accoding to the formula, we can see the numerator and denominator are amplifed by equal multiples"
   ]
  },
  {
   "cell_type": "code",
   "execution_count": null,
   "id": "25a9d453",
   "metadata": {},
   "outputs": [],
   "source": []
  },
  {
   "cell_type": "code",
   "execution_count": null,
   "id": "d98712fe",
   "metadata": {},
   "outputs": [],
   "source": []
  },
  {
   "cell_type": "markdown",
   "id": "c697e7ec",
   "metadata": {},
   "source": [
    "# 2"
   ]
  },
  {
   "cell_type": "code",
   "execution_count": 24,
   "id": "13504eb0",
   "metadata": {},
   "outputs": [],
   "source": [
    "l = [[1,1,1,1], [1,1,1,0],[1,1,1,0], [0,1,0,0],[0,1,1,1],[1,0,1,0],[1,0,1,1],[0,0,0,0],[0,0,1,0],[0,0,1,1],[0,0,0,0],[1,1,0,0]]"
   ]
  },
  {
   "cell_type": "code",
   "execution_count": 25,
   "id": "d1a04747",
   "metadata": {},
   "outputs": [],
   "source": [
    "df_2 = pd.DataFrame(l, columns=['Y', 'H', 'U', 'L'])"
   ]
  },
  {
   "cell_type": "code",
   "execution_count": 26,
   "id": "704deb48",
   "metadata": {},
   "outputs": [
    {
     "data": {
      "text/html": [
       "<div>\n",
       "<style scoped>\n",
       "    .dataframe tbody tr th:only-of-type {\n",
       "        vertical-align: middle;\n",
       "    }\n",
       "\n",
       "    .dataframe tbody tr th {\n",
       "        vertical-align: top;\n",
       "    }\n",
       "\n",
       "    .dataframe thead th {\n",
       "        text-align: right;\n",
       "    }\n",
       "</style>\n",
       "<table border=\"1\" class=\"dataframe\">\n",
       "  <thead>\n",
       "    <tr style=\"text-align: right;\">\n",
       "      <th></th>\n",
       "      <th>Y</th>\n",
       "      <th>H</th>\n",
       "      <th>U</th>\n",
       "      <th>L</th>\n",
       "    </tr>\n",
       "  </thead>\n",
       "  <tbody>\n",
       "    <tr>\n",
       "      <th>0</th>\n",
       "      <td>1</td>\n",
       "      <td>1</td>\n",
       "      <td>1</td>\n",
       "      <td>1</td>\n",
       "    </tr>\n",
       "    <tr>\n",
       "      <th>1</th>\n",
       "      <td>1</td>\n",
       "      <td>1</td>\n",
       "      <td>1</td>\n",
       "      <td>0</td>\n",
       "    </tr>\n",
       "    <tr>\n",
       "      <th>2</th>\n",
       "      <td>1</td>\n",
       "      <td>1</td>\n",
       "      <td>1</td>\n",
       "      <td>0</td>\n",
       "    </tr>\n",
       "    <tr>\n",
       "      <th>3</th>\n",
       "      <td>0</td>\n",
       "      <td>1</td>\n",
       "      <td>0</td>\n",
       "      <td>0</td>\n",
       "    </tr>\n",
       "    <tr>\n",
       "      <th>4</th>\n",
       "      <td>0</td>\n",
       "      <td>1</td>\n",
       "      <td>1</td>\n",
       "      <td>1</td>\n",
       "    </tr>\n",
       "    <tr>\n",
       "      <th>5</th>\n",
       "      <td>1</td>\n",
       "      <td>0</td>\n",
       "      <td>1</td>\n",
       "      <td>0</td>\n",
       "    </tr>\n",
       "    <tr>\n",
       "      <th>6</th>\n",
       "      <td>1</td>\n",
       "      <td>0</td>\n",
       "      <td>1</td>\n",
       "      <td>1</td>\n",
       "    </tr>\n",
       "    <tr>\n",
       "      <th>7</th>\n",
       "      <td>0</td>\n",
       "      <td>0</td>\n",
       "      <td>0</td>\n",
       "      <td>0</td>\n",
       "    </tr>\n",
       "    <tr>\n",
       "      <th>8</th>\n",
       "      <td>0</td>\n",
       "      <td>0</td>\n",
       "      <td>1</td>\n",
       "      <td>0</td>\n",
       "    </tr>\n",
       "    <tr>\n",
       "      <th>9</th>\n",
       "      <td>0</td>\n",
       "      <td>0</td>\n",
       "      <td>1</td>\n",
       "      <td>1</td>\n",
       "    </tr>\n",
       "    <tr>\n",
       "      <th>10</th>\n",
       "      <td>0</td>\n",
       "      <td>0</td>\n",
       "      <td>0</td>\n",
       "      <td>0</td>\n",
       "    </tr>\n",
       "    <tr>\n",
       "      <th>11</th>\n",
       "      <td>1</td>\n",
       "      <td>1</td>\n",
       "      <td>0</td>\n",
       "      <td>0</td>\n",
       "    </tr>\n",
       "  </tbody>\n",
       "</table>\n",
       "</div>"
      ],
      "text/plain": [
       "    Y  H  U  L\n",
       "0   1  1  1  1\n",
       "1   1  1  1  0\n",
       "2   1  1  1  0\n",
       "3   0  1  0  0\n",
       "4   0  1  1  1\n",
       "5   1  0  1  0\n",
       "6   1  0  1  1\n",
       "7   0  0  0  0\n",
       "8   0  0  1  0\n",
       "9   0  0  1  1\n",
       "10  0  0  0  0\n",
       "11  1  1  0  0"
      ]
     },
     "execution_count": 26,
     "metadata": {},
     "output_type": "execute_result"
    }
   ],
   "source": [
    "df_2"
   ]
  },
  {
   "cell_type": "markdown",
   "id": "6154fbed",
   "metadata": {},
   "source": [
    "## 2.A"
   ]
  },
  {
   "cell_type": "code",
   "execution_count": 27,
   "id": "93df8abb",
   "metadata": {},
   "outputs": [
    {
     "data": {
      "text/plain": [
       "{'P(H=1|Y=0)': 0.3333333333333333,\n",
       " 'P(U=1|Y=0)': 0.5,\n",
       " 'P(L=1|Y=0)': 0.3333333333333333,\n",
       " 'P(H=1|Y=1)': 0.6666666666666666,\n",
       " 'P(U=1|Y=1)': 0.8333333333333334,\n",
       " 'P(L=1|Y=1)': 0.3333333333333333}"
      ]
     },
     "execution_count": 27,
     "metadata": {},
     "output_type": "execute_result"
    }
   ],
   "source": [
    "#P(H|Y) = P(HY)/ P(Y) \n",
    "v2 ={}\n",
    "for i in range(2):\n",
    "    for j in df_2.columns[1:]:\n",
    "        y_prob = sum((df_2['Y'] ==i))/12\n",
    "        e = sum((df_2['Y'] ==i) & (df_2[j] ==1)) / 12\n",
    "        \n",
    "        name = 'P(' + j +'='+'1|Y='+ str(i)+')'\n",
    "        v2[name] =e/y_prob \n",
    "v2"
   ]
  },
  {
   "cell_type": "raw",
   "id": "612225b8",
   "metadata": {},
   "source": [
    "prior P(Y = 1) = 0.5\n"
   ]
  },
  {
   "cell_type": "markdown",
   "id": "f247db36",
   "metadata": {},
   "source": [
    "## 2.B"
   ]
  },
  {
   "cell_type": "raw",
   "id": "42d4d2a0",
   "metadata": {},
   "source": [
    "\n",
    " P(Y = 1 | H = 0, U = 1, L = 0) =1/2 =0.5\n",
    " \n",
    " P(Y = 0 | H = 0, U = 1, L = 0)  =1/2 =0.5\n",
    " \n",
    " We cannot conclude that the message is a spam"
   ]
  },
  {
   "cell_type": "code",
   "execution_count": null,
   "id": "905918fa",
   "metadata": {},
   "outputs": [],
   "source": []
  },
  {
   "cell_type": "markdown",
   "id": "3a056453",
   "metadata": {},
   "source": [
    "## 2.C"
   ]
  },
  {
   "cell_type": "raw",
   "id": "258eadf3",
   "metadata": {},
   "source": [
    "No. \n",
    "I think it should follow Total Probability formula"
   ]
  },
  {
   "cell_type": "markdown",
   "id": "8209bf57",
   "metadata": {},
   "source": [
    "# 3"
   ]
  },
  {
   "cell_type": "code",
   "execution_count": 28,
   "id": "d544b80f",
   "metadata": {},
   "outputs": [
    {
     "data": {
      "text/plain": [
       "0.22833333333333333"
      ]
     },
     "execution_count": 28,
     "metadata": {},
     "output_type": "execute_result"
    }
   ],
   "source": [
    "0.1/1 + 0.1/2 + 0.1/3+ 0.1/4+ 0.1/5"
   ]
  },
  {
   "cell_type": "markdown",
   "id": "f44120fe",
   "metadata": {},
   "source": [
    "# 4"
   ]
  },
  {
   "cell_type": "markdown",
   "id": "82a94c74",
   "metadata": {},
   "source": [
    "## 4A"
   ]
  },
  {
   "cell_type": "code",
   "execution_count": 29,
   "id": "9295f20e",
   "metadata": {},
   "outputs": [],
   "source": [
    "def process_text(line):\n",
    "\ts = line.lower().strip().split()\n",
    "\treturn s"
   ]
  },
  {
   "cell_type": "code",
   "execution_count": 45,
   "id": "26ebf337",
   "metadata": {},
   "outputs": [],
   "source": [
    "def plotting(file):\n",
    "    vocabulary = {}\n",
    "    \n",
    "    with open(file) as f:\n",
    "        text = f.read().lower().strip().split()\n",
    "    for line in text:\n",
    "        for word in process_text(line):\n",
    "            if word not in vocabulary:\n",
    "                vocabulary[word] = 1  # initialize the counter\n",
    "            else:\n",
    "                vocabulary[word] += 1 # increment the counter\n",
    "    sorted_words = dict(sorted(vocabulary.items(), key=lambda x: x[1], reverse=True))\n",
    "    \n",
    "    fre_df = pd.DataFrame.from_dict(sorted_words, orient='index', columns=['frequency'])\n",
    "    #fre_df['fraction'] = 1/(fre_df.frequency*(fre_df.frequency+1))\n",
    "    \n",
    "    fre_df['fraction'] = fre_df.groupby('frequency')['frequency'].transform('count')/len(fre_df.frequency)\n",
    "    #print(fre_df)\n",
    "    \n",
    "    \n",
    "    fig, (ax1, ax2) = plt.subplots(1, 2)\n",
    "    fig.suptitle(file +' => linear and log-log')\n",
    "    ax1.plot(fre_df['frequency'], fre_df['fraction'])\n",
    "    ax2.plot(np.log10(fre_df['frequency']), np.log10(fre_df['fraction']))\n",
    "\n",
    "    plt.show()\n",
    "    return fre_df"
   ]
  },
  {
   "cell_type": "code",
   "execution_count": 46,
   "id": "d797ed35",
   "metadata": {
    "scrolled": true
   },
   "outputs": [
    {
     "data": {
      "image/png": "[encoded data removed]",
      "text/plain": [
       "<Figure size 432x288 with 2 Axes>"
      ]
     },
     "metadata": {
      "needs_background": "light"
     },
     "output_type": "display_data"
    }
   ],
   "source": [
    "medhelp = plotting('medhelp.txt')"
   ]
  },
  {
   "cell_type": "code",
   "execution_count": 47,
   "id": "163d5ef2",
   "metadata": {},
   "outputs": [
    {
     "data": {
      "image/png": "[encoded data removed]",
      "text/plain": [
       "<Figure size 432x288 with 2 Axes>"
      ]
     },
     "metadata": {
      "needs_background": "light"
     },
     "output_type": "display_data"
    }
   ],
   "source": [
    "ehr = plotting('ehr.txt')"
   ]
  },
  {
   "cell_type": "raw",
   "id": "dd8257a8",
   "metadata": {},
   "source": [
    "Yes they look like power-law distribution\n",
    "linear scale => Long-tail on a linear plot\n",
    "log-log scale => Straight line on a log-log plot"
   ]
  },
  {
   "cell_type": "code",
   "execution_count": null,
   "id": "6b87242a",
   "metadata": {},
   "outputs": [],
   "source": []
  },
  {
   "cell_type": "markdown",
   "id": "62a6f26d",
   "metadata": {},
   "source": [
    "## 4B"
   ]
  },
  {
   "cell_type": "code",
   "execution_count": 33,
   "id": "081208f3",
   "metadata": {},
   "outputs": [
    {
     "data": {
      "text/plain": [
       "(Index(['i', 'the', 'to', 'and', 'a', 'you', 'of', 'is', 'it', 'my', 'have',\n",
       "        'in', 'for', 'that', 'with', 'on', 'are', 'your', 'be', 'but', 'not',\n",
       "        'this', 'if', 'so', 'will', 'or', 'was', 'can', 'as', 'me', 'they',\n",
       "        'all', 'get', 'just', 'he', 'at', 'am', 'had', 'from', 'what', 'very',\n",
       "        'one', 'do', 'like', 'about', 'no', 'an', 'some', 'would', 'i'm'],\n",
       "       dtype='object'),\n",
       " Index(['and', 'with', 'to', 'the', 'of', 'was', 'she', 'a', 'in', 'on', 'for',\n",
       "        'he', 'her', 'at', 'is', 'had', 'patient', 'has', 'not', 'no', 'pt',\n",
       "        'by', 'an', 'his', 'but', 'or', 'abdominal', 'that', 'who', 'as',\n",
       "        'from', 'pain', 'also', 'denies', 'atrial', 'blood', 'chest', 'given',\n",
       "        's/p', 'history', 'presents', 'this', 'which', 'pain,', 'after',\n",
       "        'right', '/', 'have', 'be', 'were'],\n",
       "       dtype='object'))"
      ]
     },
     "execution_count": 33,
     "metadata": {},
     "output_type": "execute_result"
    }
   ],
   "source": [
    "m = medhelp.iloc[:50,:].index\n",
    "e= ehr.iloc[:50,:].index\n",
    "m, e"
   ]
  },
  {
   "cell_type": "code",
   "execution_count": 34,
   "id": "098d3bac",
   "metadata": {},
   "outputs": [
    {
     "data": {
      "text/plain": [
       "75"
      ]
     },
     "execution_count": 34,
     "metadata": {},
     "output_type": "execute_result"
    }
   ],
   "source": [
    "len(np.union1d(m, e))"
   ]
  },
  {
   "cell_type": "code",
   "execution_count": 35,
   "id": "7a3ada3d",
   "metadata": {},
   "outputs": [
    {
     "data": {
      "text/plain": [
       "25"
      ]
     },
     "execution_count": 35,
     "metadata": {},
     "output_type": "execute_result"
    }
   ],
   "source": [
    "len(np.intersect1d(m,e))"
   ]
  },
  {
   "cell_type": "code",
   "execution_count": 36,
   "id": "14c37ed3",
   "metadata": {},
   "outputs": [
    {
     "data": {
      "text/plain": [
       "0.3333333333333333"
      ]
     },
     "execution_count": 36,
     "metadata": {},
     "output_type": "execute_result"
    }
   ],
   "source": [
    "jaccard = 25/75\n",
    "jaccard"
   ]
  },
  {
   "cell_type": "code",
   "execution_count": 37,
   "id": "b09b7cbf",
   "metadata": {},
   "outputs": [
    {
     "data": {
      "text/plain": [
       "array(['about', 'all', 'am', 'are', 'can', 'do', 'get', 'i', \"i'm\", 'if',\n",
       "       'it', 'just', 'like', 'me', 'my', 'one', 'so', 'some', 'they',\n",
       "       'very', 'what', 'will', 'would', 'you', 'your'], dtype=object)"
      ]
     },
     "execution_count": 37,
     "metadata": {},
     "output_type": "execute_result"
    }
   ],
   "source": [
    "np.setdiff1d(m, np.intersect1d(m,e))"
   ]
  },
  {
   "cell_type": "code",
   "execution_count": 38,
   "id": "4f20d960",
   "metadata": {},
   "outputs": [
    {
     "data": {
      "text/plain": [
       "array(['/', 'abdominal', 'after', 'also', 'atrial', 'blood', 'by',\n",
       "       'chest', 'denies', 'given', 'has', 'her', 'his', 'history', 'pain',\n",
       "       'pain,', 'patient', 'presents', 'pt', 'right', 's/p', 'she',\n",
       "       'were', 'which', 'who'], dtype=object)"
      ]
     },
     "execution_count": 38,
     "metadata": {},
     "output_type": "execute_result"
    }
   ],
   "source": [
    "np.setdiff1d(e, np.intersect1d(m,e))"
   ]
  },
  {
   "cell_type": "raw",
   "id": "76b0a7fe",
   "metadata": {},
   "source": [
    "By analyzing top 50 words of the 2 collections,\n",
    "I cannot indentify which is wchih,there are too many stop words, especially for medhelp. \n",
    "You cannot even identify the genre the collection\n",
    "but ehr does have many medical related words. "
   ]
  }
 ],
 "metadata": {
  "kernelspec": {
   "display_name": "Python [conda env:All]",
   "language": "python",
   "name": "conda-env-All-py"
  },
  "language_info": {
   "codemirror_mode": {
    "name": "ipython",
    "version": 3
   },
   "file_extension": ".py",
   "mimetype": "text/x-python",
   "name": "python",
   "nbconvert_exporter": "python",
   "pygments_lexer": "ipython3",
   "version": "3.9.7"
  }
 },
 "nbformat": 4,
 "nbformat_minor": 5
}
